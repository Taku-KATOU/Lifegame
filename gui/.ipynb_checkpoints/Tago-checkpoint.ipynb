{
 "cells": [
  {
   "cell_type": "code",
   "execution_count": 1,
   "metadata": {},
   "outputs": [],
   "source": [
    "import numpy as np\n",
    "import matplotlib.pyplot as plt"
   ]
  },
  {
   "cell_type": "code",
   "execution_count": 7,
   "metadata": {},
   "outputs": [
    {
     "name": "stdout",
     "output_type": "stream",
     "text": [
      "kusoimoja\n"
     ]
    }
   ],
   "source": [
    "#クラスを定義\n",
    "class Tago:\n",
    "    \n",
    "    def __init__(tago):\n",
    "        tago.ani=\"anija\"\n",
    "        tago.ototo=\"otoja\"\n",
    "        tago.zombi=\"kusoimoja\"\n",
    "#インスタンスを定義\n",
    "#print(a.zombi)"
   ]
  },
  {
   "cell_type": "code",
   "execution_count": 1,
   "metadata": {},
   "outputs": [
    {
     "name": "stdout",
     "output_type": "stream",
     "text": [
      "1\n",
      "2\n",
      "3\n"
     ]
    },
    {
     "ename": "AttributeError",
     "evalue": "'NoneType' object has no attribute 'join'",
     "output_type": "error",
     "traceback": [
      "\u001b[0;31m---------------------------------------------------------------------------\u001b[0m",
      "\u001b[0;31mAttributeError\u001b[0m                            Traceback (most recent call last)",
      "\u001b[0;32m<ipython-input-1-9f64dd08066d>\u001b[0m in \u001b[0;36m<module>\u001b[0;34m\u001b[0m\n\u001b[1;32m     43\u001b[0m \u001b[0;31m# 終了時にスレッドを停止する処理\u001b[0m\u001b[0;34m\u001b[0m\u001b[0;34m\u001b[0m\u001b[0;34m\u001b[0m\u001b[0m\n\u001b[1;32m     44\u001b[0m \u001b[0mstop_flag\u001b[0m\u001b[0;34m=\u001b[0m\u001b[0;32mTrue\u001b[0m\u001b[0;34m\u001b[0m\u001b[0;34m\u001b[0m\u001b[0m\n\u001b[0;32m---> 45\u001b[0;31m \u001b[0mthread\u001b[0m\u001b[0;34m.\u001b[0m\u001b[0mjoin\u001b[0m\u001b[0;34m(\u001b[0m\u001b[0;34m)\u001b[0m\u001b[0;34m\u001b[0m\u001b[0;34m\u001b[0m\u001b[0m\n\u001b[0m",
      "\u001b[0;31mAttributeError\u001b[0m: 'NoneType' object has no attribute 'join'"
     ]
    }
   ],
   "source": [
    "import tkinter as tk\n",
    "import threading\n",
    "import time\n",
    "\n",
    "def time_count():\n",
    "    global frame\n",
    "    global stop_flag\n",
    "\n",
    "    while not stop_flag:\n",
    "        print(frame)\n",
    "        frame=frame+1\n",
    "        time.sleep(1)\n",
    "\n",
    "def start():\n",
    "    global stop_flag\n",
    "    global thread\n",
    "\n",
    "    # スレッドが無いなら生成してstart()する\n",
    "    if not thread:\n",
    "        thread = threading.Thread(target=time_count)\n",
    "        stop_flag=False\n",
    "        thread.start()\n",
    "\n",
    "def stop():\n",
    "    global stop_flag\n",
    "    global thread\n",
    "\n",
    "    # スレッドがある場合停止してjoin()する\n",
    "    if thread:\n",
    "        stop_flag=True\n",
    "        thread.join()\n",
    "        thread=None\n",
    "\n",
    "frame=1\n",
    "stop_flag=False\n",
    "thread=None\n",
    "root=tk.Tk()\n",
    "Button001=tk.Button(root,text=\"Start\",command=start)\n",
    "Button001.pack()\n",
    "Button002=tk.Button(root,text=\"Stop\",command=stop)\n",
    "Button002.pack()\n",
    "root.mainloop()\n",
    "# 終了時にスレッドを停止する処理\n",
    "stop_flag=True\n",
    "thread.join()"
   ]
  },
  {
   "cell_type": "code",
   "execution_count": null,
   "metadata": {},
   "outputs": [],
   "source": []
  }
 ],
 "metadata": {
  "kernelspec": {
   "display_name": "Python 3",
   "language": "python",
   "name": "python3"
  },
  "language_info": {
   "codemirror_mode": {
    "name": "ipython",
    "version": 3
   },
   "file_extension": ".py",
   "mimetype": "text/x-python",
   "name": "python",
   "nbconvert_exporter": "python",
   "pygments_lexer": "ipython3",
   "version": "3.7.4"
  }
 },
 "nbformat": 4,
 "nbformat_minor": 2
}
