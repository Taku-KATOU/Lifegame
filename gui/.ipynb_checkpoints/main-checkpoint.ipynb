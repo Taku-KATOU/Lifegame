{
 "cells": [
  {
   "cell_type": "code",
   "execution_count": 1,
   "metadata": {
    "scrolled": false
   },
   "outputs": [],
   "source": [
    "import numpy as np\n",
    "import lifegame as lg\n",
    "import matplotlib.pyplot as plt\n",
    "import tkinter as tk\n",
    "import cv2\n",
    "#import lggraph \n",
    "%reload_ext autoreload\n",
    "%autoreload 2\n",
    "\n",
    "def btn_click():\n",
    "    #print(\"I clicked\")\n",
    "    cell.step()\n",
    "    #cell.cell=cell.ncell\n",
    "    #plt.imshow(cell.cell)\n",
    "    cell.graphic()\n",
    "    #j=1\n",
    "    #print(j)\n",
    "    #j=j+1\n",
    "    #if tago==1 :\n",
    "    root.after(10,btn_click)\n",
    "def btn_stop():\n",
    "    root.quit()\n",
    "    exit()\n",
    "    #plt.imshow(np.transpose(cell.cell))\n",
    "#cellを定義\n",
    "m=100\n",
    "n=100\n",
    "#cellのwidthを指定\n",
    "wcell=5\n",
    "#tago=1\n",
    "#cellを定義\n",
    "#cell=lg.cells(m,n)\n",
    "#画面起動\n",
    "root=tk.Tk()\n",
    "root.title(u\"LifeGame by Tago\")\n",
    "root.geometry(\"1200x800\")\n",
    "canvas=tk.Canvas(root,width=m*wcell,height=n*wcell,bg=\"black\")\n",
    "canvas.place(x=0,y=0)\n",
    "for j in range(n):\n",
    "    for i in range(m):\n",
    "        canvas.create_rectangle(wcell*i, wcell*j,wcell*(i+1),wcell*(j+1),outline='white',fill='', width=1)\n",
    "\n",
    "cell=lg.cells(m,n,wcell,canvas)\n",
    "canvas.bind(\"<Button-1>\", cell.click)\n",
    "\n",
    "#初期条件を左上グライダーにする\n",
    "#cell.init_glider()\n",
    "btn = tk.Button(root, text='start',command=btn_click)\n",
    "btn.place(x=800, y=300)\n",
    "btn2 =tk.Button(root,text='stop',command=btn_stop)\n",
    "btn2.place(x=800, y=400)\n",
    "root.mainloop()"
   ]
  },
  {
   "cell_type": "code",
   "execution_count": null,
   "metadata": {},
   "outputs": [],
   "source": []
  }
 ],
 "metadata": {
  "kernelspec": {
   "display_name": "Python 3",
   "language": "python",
   "name": "python3"
  },
  "language_info": {
   "codemirror_mode": {
    "name": "ipython",
    "version": 3
   },
   "file_extension": ".py",
   "mimetype": "text/x-python",
   "name": "python",
   "nbconvert_exporter": "python",
   "pygments_lexer": "ipython3",
   "version": "3.7.4"
  }
 },
 "nbformat": 4,
 "nbformat_minor": 2
}
