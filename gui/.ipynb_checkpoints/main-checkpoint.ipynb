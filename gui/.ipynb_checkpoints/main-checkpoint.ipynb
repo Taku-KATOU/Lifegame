{
 "cells": [
  {
   "cell_type": "code",
   "execution_count": 56,
   "metadata": {
    "scrolled": false
   },
   "outputs": [],
   "source": [
    "import numpy as np\n",
    "import lifegame as lg\n",
    "import matplotlib.pyplot as plt\n",
    "import tkinter as tk\n",
    "import cv2\n",
    "from numba import jit\n",
    "#import time\n",
    "#import threading\n",
    "#import lggraph \n",
    "#%reload_ext autoreload\n",
    "#%autoreload 2\n",
    "#@jit\n",
    "def sloop():\n",
    "    \n",
    "    #while not stop_flag:\n",
    "    cell.step()\n",
    "    cell.graphic()\n",
    "    root.after(10,sloop)\n",
    "    \n",
    "\n",
    "def btn_click():\n",
    "    global stop_flag\n",
    "    global thread\n",
    "    \n",
    "    sloop()\n",
    "    \n",
    "def btn_stop():\n",
    "    global stop_flag\n",
    "    global thread\n",
    "    \n",
    "    #if thread:\n",
    "    #    stop_flag=True\n",
    "\n",
    "    #plt.imshow(np.transpose(cell.cell))\n",
    "#cellを定義\n",
    "m=10\n",
    "n=10\n",
    "wcell=10\n",
    "#画面サイズ\n",
    "width=m*wcell+100\n",
    "height=n*wcell+100\n",
    "#cellのwidthを指定\n",
    "\n",
    "#tago=1\n",
    "#cellを定義\n",
    "#cell=lg.cells(m,n)\n",
    "#画面起動\n",
    "root=tk.Tk()\n",
    "root.title(u\"LifeGame by Tago\")\n",
    "root.geometry(str(width)+\"x\"+str(height))\n",
    "canvas=tk.Canvas(root,width=m*wcell,height=n*wcell,bg=\"black\")\n",
    "canvas.place(x=0,y=0)\n",
    "for j in range(n):\n",
    "    for i in range(m):\n",
    "        canvas.create_rectangle(wcell*i, wcell*j,wcell*(i+1),wcell*(j+1),outline='white',fill='', width=1)\n",
    "\n",
    "cell=lg.cells(m,n,wcell,canvas)\n",
    "canvas.bind(\"<Button-1>\", cell.click)\n",
    "\n",
    "#初期条件を左上グライダーにする\n",
    "#cell.init_glider()\n",
    "#thread=None\n",
    "stop_flag=False\n",
    "btn = tk.Button(root, text='start',command=sloop)\n",
    "btn.place(x=str(width*4/5), y=str(height/2))\n",
    "btn2 =tk.Button(root,text='stop',command=btn_stop)\n",
    "btn2.place(x=str(width*4/5), y=str(height/2+100))\n",
    "root.mainloop()\n",
    "#stop_flag=True\n",
    "#thread.join()"
   ]
  },
  {
   "cell_type": "code",
   "execution_count": null,
   "metadata": {},
   "outputs": [],
   "source": []
  },
  {
   "cell_type": "code",
   "execution_count": null,
   "metadata": {},
   "outputs": [],
   "source": []
  },
  {
   "cell_type": "code",
   "execution_count": null,
   "metadata": {},
   "outputs": [],
   "source": []
  }
 ],
 "metadata": {
  "kernelspec": {
   "display_name": "Python 3",
   "language": "python",
   "name": "python3"
  },
  "language_info": {
   "codemirror_mode": {
    "name": "ipython",
    "version": 3
   },
   "file_extension": ".py",
   "mimetype": "text/x-python",
   "name": "python",
   "nbconvert_exporter": "python",
   "pygments_lexer": "ipython3",
   "version": "3.7.4"
  }
 },
 "nbformat": 4,
 "nbformat_minor": 2
}
