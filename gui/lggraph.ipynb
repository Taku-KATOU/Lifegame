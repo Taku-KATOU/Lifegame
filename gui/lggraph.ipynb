{
 "cells": [
  {
   "cell_type": "code",
   "execution_count": 9,
   "metadata": {},
   "outputs": [],
   "source": [
    "import tkinter as tk"
   ]
  },
  {
   "cell_type": "code",
   "execution_count": 39,
   "metadata": {},
   "outputs": [],
   "source": [
    "#click関数を定義\n",
    "class lggraph :\n",
    "    def __init__(self,m,n,w,canvas):\n",
    "        self.height=m\n",
    "        self.width=n\n",
    "        self.cellwidth=w\n",
    "        #画面セット\n",
    "        self.canvas=canvas\n",
    "        print(self.height)\n",
    "    def click(self,event):\n",
    "        x1=event.x//self.cellwidth\n",
    "        y1=event.y//self.cellwidth\n",
    "        self.canvas.create_rectangle(self.cellwidth*x1, self.cellwidth*y1, self.cellwidth*x1+self.cellwidth, self.cellwidth*y1+self.cellwidth,outline='black',fill='lime', width=1)"
   ]
  },
  {
   "cell_type": "code",
   "execution_count": null,
   "metadata": {},
   "outputs": [],
   "source": []
  }
 ],
 "metadata": {
  "kernelspec": {
   "display_name": "Python 3",
   "language": "python",
   "name": "python3"
  },
  "language_info": {
   "codemirror_mode": {
    "name": "ipython",
    "version": 3
   },
   "file_extension": ".py",
   "mimetype": "text/x-python",
   "name": "python",
   "nbconvert_exporter": "python",
   "pygments_lexer": "ipython3",
   "version": "3.7.4"
  }
 },
 "nbformat": 4,
 "nbformat_minor": 2
}
